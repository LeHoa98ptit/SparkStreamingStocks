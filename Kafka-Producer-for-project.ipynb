{
 "cells": [
  {
   "cell_type": "code",
   "execution_count": 1,
   "id": "5a8b9a94",
   "metadata": {},
   "outputs": [
    {
     "name": "stdout",
     "output_type": "stream",
     "text": [
      "Collecting confluent_kafka\n",
      "  Obtaining dependency information for confluent_kafka from https://files.pythonhosted.org/packages/da/da/6e6bfd5e2cf1588094e3b378308fe602d64b4baa5bed6ff4b429734facb4/confluent_kafka-2.3.0-cp310-cp310-macosx_11_0_arm64.whl.metadata\n",
      "  Downloading confluent_kafka-2.3.0-cp310-cp310-macosx_11_0_arm64.whl.metadata (2.3 kB)\n",
      "Collecting sseclient\n",
      "  Downloading sseclient-0.0.27.tar.gz (7.5 kB)\n",
      "  Installing build dependencies ... \u001b[?25ldone\n",
      "\u001b[?25h  Getting requirements to build wheel ... \u001b[?25ldone\n",
      "\u001b[?25h  Preparing metadata (pyproject.toml) ... \u001b[?25ldone\n",
      "\u001b[?25hRequirement already satisfied: requests>=2.9 in /Library/Frameworks/Python.framework/Versions/3.10/lib/python3.10/site-packages (from sseclient) (2.31.0)\n",
      "Requirement already satisfied: six in /Library/Frameworks/Python.framework/Versions/3.10/lib/python3.10/site-packages (from sseclient) (1.16.0)\n",
      "Requirement already satisfied: charset-normalizer<4,>=2 in /Library/Frameworks/Python.framework/Versions/3.10/lib/python3.10/site-packages (from requests>=2.9->sseclient) (3.2.0)\n",
      "Requirement already satisfied: idna<4,>=2.5 in /Library/Frameworks/Python.framework/Versions/3.10/lib/python3.10/site-packages (from requests>=2.9->sseclient) (3.4)\n",
      "Requirement already satisfied: urllib3<3,>=1.21.1 in /Library/Frameworks/Python.framework/Versions/3.10/lib/python3.10/site-packages (from requests>=2.9->sseclient) (2.0.4)\n",
      "Requirement already satisfied: certifi>=2017.4.17 in /Library/Frameworks/Python.framework/Versions/3.10/lib/python3.10/site-packages (from requests>=2.9->sseclient) (2023.7.22)\n",
      "Downloading confluent_kafka-2.3.0-cp310-cp310-macosx_11_0_arm64.whl (2.9 MB)\n",
      "\u001b[2K   \u001b[90m━━━━━━━━━━━━━━━━━━━━━━━━━━━━━━━━━━━━━━━━\u001b[0m \u001b[32m2.9/2.9 MB\u001b[0m \u001b[31m12.9 MB/s\u001b[0m eta \u001b[36m0:00:00\u001b[0ma \u001b[36m0:00:01\u001b[0m\n",
      "\u001b[?25hBuilding wheels for collected packages: sseclient\n",
      "  Building wheel for sseclient (pyproject.toml) ... \u001b[?25ldone\n",
      "\u001b[?25h  Created wheel for sseclient: filename=sseclient-0.0.27-py3-none-any.whl size=5563 sha256=bd7512e5fb16f49e3e89382336ac0aeaf72333086f8e3d7a70d199ddfa8c1177\n",
      "  Stored in directory: /Users/lehoa/Library/Caches/pip/wheels/60/57/0e/09b1264923280e935a34cc543b7f147f5df12490bd7a992f42\n",
      "Successfully built sseclient\n",
      "Installing collected packages: confluent_kafka, sseclient\n",
      "Successfully installed confluent_kafka-2.3.0 sseclient-0.0.27\n",
      "\n",
      "\u001b[1m[\u001b[0m\u001b[34;49mnotice\u001b[0m\u001b[1;39;49m]\u001b[0m\u001b[39;49m A new release of pip is available: \u001b[0m\u001b[31;49m23.2.1\u001b[0m\u001b[39;49m -> \u001b[0m\u001b[32;49m23.3.1\u001b[0m\n",
      "\u001b[1m[\u001b[0m\u001b[34;49mnotice\u001b[0m\u001b[1;39;49m]\u001b[0m\u001b[39;49m To update, run: \u001b[0m\u001b[32;49mpip install --upgrade pip\u001b[0m\n"
     ]
    }
   ],
   "source": [
    "!pip install confluent_kafka sseclient"
   ]
  },
  {
   "cell_type": "code",
   "execution_count": 2,
   "id": "2e778584",
   "metadata": {},
   "outputs": [],
   "source": [
    "from confluent_kafka import SerializingProducer, DeserializingConsumer\n",
    "from confluent_kafka.serialization import StringSerializer, StringDeserializer\n",
    "from confluent_kafka.admin import AdminClient, NewTopic\n",
    "from uuid import uuid4\n",
    "import sys, random\n",
    "\n",
    "brokers = \"kafka1:9092,kafka2:9093\""
   ]
  },
  {
   "cell_type": "code",
   "execution_count": 3,
   "id": "ef7871fb",
   "metadata": {},
   "outputs": [],
   "source": [
    "pconf = {\n",
    "    'bootstrap.servers': brokers,\n",
    "    'partitioner': 'murmur2_random',\n",
    "    'key.serializer': StringSerializer('utf_8'),\n",
    "    'value.serializer':  StringSerializer('utf_8')\n",
    "}"
   ]
  },
  {
   "cell_type": "code",
   "execution_count": 4,
   "id": "46183cdf",
   "metadata": {},
   "outputs": [
    {
     "name": "stderr",
     "output_type": "stream",
     "text": [
      "%3|1698702931.091|FAIL|rdkafka#producer-1| [thrd:kafka2:9093/bootstrap]: kafka2:9093/bootstrap: Failed to resolve 'kafka2:9093': nodename nor servname provided, or not known (after 8ms in state CONNECT)\n",
      "%3|1698702932.142|FAIL|rdkafka#producer-1| [thrd:kafka1:9092/bootstrap]: kafka1:9092/bootstrap: Failed to resolve 'kafka1:9092': nodename nor servname provided, or not known (after 55ms in state CONNECT)\n",
      "%3|1698702933.090|FAIL|rdkafka#producer-1| [thrd:kafka2:9093/bootstrap]: kafka2:9093/bootstrap: Failed to resolve 'kafka2:9093': nodename nor servname provided, or not known (after 2ms in state CONNECT, 1 identical error(s) suppressed)\n",
      "%3|1698702934.094|FAIL|rdkafka#producer-1| [thrd:kafka1:9092/bootstrap]: kafka1:9092/bootstrap: Failed to resolve 'kafka1:9092': nodename nor servname provided, or not known (after 2ms in state CONNECT, 1 identical error(s) suppressed)\n"
     ]
    }
   ],
   "source": [
    "p = SerializingProducer(pconf)"
   ]
  },
  {
   "cell_type": "code",
   "execution_count": 8,
   "id": "be76611f",
   "metadata": {},
   "outputs": [],
   "source": [
    "stocks = \"Data/stocks.csv\""
   ]
  },
  {
   "cell_type": "code",
   "execution_count": 10,
   "id": "fd849c8f",
   "metadata": {},
   "outputs": [
    {
     "name": "stderr",
     "output_type": "stream",
     "text": [
      "%3|1698702964.184|FAIL|rdkafka#producer-1| [thrd:kafka1:9092/bootstrap]: kafka1:9092/bootstrap: Failed to resolve 'kafka1:9092': nodename nor servname provided, or not known (after 3ms in state CONNECT, 15 identical error(s) suppressed)\n"
     ]
    }
   ],
   "source": [
    "from datetime import datetime  \n",
    "  #2023-10-13T08:16:13Z\n",
    "def construct_stock(row):\n",
    "    time_stamp = time.time()\n",
    "    date_time = datetime.fromtimestamp(time_stamp)\n",
    "    str_date_time = date_time.strftime(\"%Y-%m-%dT%H:%M:%SZ\") #\"%d-%m-%Y, %H:%M:%S\"\n",
    "    stock = {\"name\": row[6],\n",
    "             \"price\": float(row[2]),\n",
    "             \"timestamp\":str_date_time\n",
    "             }\n",
    "    return stock"
   ]
  },
  {
   "cell_type": "code",
   "execution_count": null,
   "id": "06e266f9",
   "metadata": {},
   "outputs": [
    {
     "name": "stdout",
     "output_type": "stream",
     "text": [
      "{'name': 'ISRG', 'price': 192.6465, 'timestamp': '2023-10-30T22:56:07Z'}\n"
     ]
    },
    {
     "name": "stderr",
     "output_type": "stream",
     "text": [
      "%3|1698702994.266|FAIL|rdkafka#producer-1| [thrd:kafka2:9093/bootstrap]: kafka2:9093/bootstrap: Failed to resolve 'kafka2:9093': nodename nor servname provided, or not known (after 2ms in state CONNECT, 16 identical error(s) suppressed)\n",
      "%3|1698702995.270|FAIL|rdkafka#producer-1| [thrd:kafka1:9092/bootstrap]: kafka1:9092/bootstrap: Failed to resolve 'kafka1:9092': nodename nor servname provided, or not known (after 3ms in state CONNECT, 15 identical error(s) suppressed)\n",
      "%3|1698703024.365|FAIL|rdkafka#producer-1| [thrd:kafka2:9093/bootstrap]: kafka2:9093/bootstrap: Failed to resolve 'kafka2:9093': nodename nor servname provided, or not known (after 3ms in state CONNECT, 15 identical error(s) suppressed)\n",
      "%3|1698703025.367|FAIL|rdkafka#producer-1| [thrd:kafka1:9092/bootstrap]: kafka1:9092/bootstrap: Failed to resolve 'kafka1:9092': nodename nor servname provided, or not known (after 3ms in state CONNECT, 15 identical error(s) suppressed)\n",
      "%3|1698703054.439|FAIL|rdkafka#producer-1| [thrd:kafka2:9093/bootstrap]: kafka2:9093/bootstrap: Failed to resolve 'kafka2:9093': nodename nor servname provided, or not known (after 2ms in state CONNECT, 15 identical error(s) suppressed)\n",
      "%3|1698703055.441|FAIL|rdkafka#producer-1| [thrd:kafka1:9092/bootstrap]: kafka1:9092/bootstrap: Failed to resolve 'kafka1:9092': nodename nor servname provided, or not known (after 2ms in state CONNECT, 15 identical error(s) suppressed)\n",
      "%3|1698703085.521|FAIL|rdkafka#producer-1| [thrd:kafka2:9093/bootstrap]: kafka2:9093/bootstrap: Failed to resolve 'kafka2:9093': nodename nor servname provided, or not known (after 2ms in state CONNECT, 15 identical error(s) suppressed)\n",
      "%3|1698703086.521|FAIL|rdkafka#producer-1| [thrd:kafka1:9092/bootstrap]: kafka1:9092/bootstrap: Failed to resolve 'kafka1:9092': nodename nor servname provided, or not known (after 2ms in state CONNECT, 16 identical error(s) suppressed)\n",
      "%3|1698703116.605|FAIL|rdkafka#producer-1| [thrd:kafka2:9093/bootstrap]: kafka2:9093/bootstrap: Failed to resolve 'kafka2:9093': nodename nor servname provided, or not known (after 3ms in state CONNECT, 13 identical error(s) suppressed)\n",
      "%3|1698703117.607|FAIL|rdkafka#producer-1| [thrd:kafka1:9092/bootstrap]: kafka1:9092/bootstrap: Failed to resolve 'kafka1:9092': nodename nor servname provided, or not known (after 3ms in state CONNECT, 18 identical error(s) suppressed)\n",
      "%3|1698703146.692|FAIL|rdkafka#producer-1| [thrd:kafka2:9093/bootstrap]: kafka2:9093/bootstrap: Failed to resolve 'kafka2:9093': nodename nor servname provided, or not known (after 2ms in state CONNECT, 15 identical error(s) suppressed)\n",
      "%3|1698703147.693|FAIL|rdkafka#producer-1| [thrd:kafka1:9092/bootstrap]: kafka1:9092/bootstrap: Failed to resolve 'kafka1:9092': nodename nor servname provided, or not known (after 2ms in state CONNECT, 15 identical error(s) suppressed)\n",
      "%3|1698703176.777|FAIL|rdkafka#producer-1| [thrd:kafka2:9093/bootstrap]: kafka2:9093/bootstrap: Failed to resolve 'kafka2:9093': nodename nor servname provided, or not known (after 2ms in state CONNECT, 16 identical error(s) suppressed)\n",
      "%3|1698703177.781|FAIL|rdkafka#producer-1| [thrd:kafka1:9092/bootstrap]: kafka1:9092/bootstrap: Failed to resolve 'kafka1:9092': nodename nor servname provided, or not known (after 2ms in state CONNECT, 14 identical error(s) suppressed)\n",
      "%3|1698703206.873|FAIL|rdkafka#producer-1| [thrd:kafka2:9093/bootstrap]: kafka2:9093/bootstrap: Failed to resolve 'kafka2:9093': nodename nor servname provided, or not known (after 3ms in state CONNECT, 15 identical error(s) suppressed)\n",
      "%3|1698703207.875|FAIL|rdkafka#producer-1| [thrd:kafka1:9092/bootstrap]: kafka1:9092/bootstrap: Failed to resolve 'kafka1:9092': nodename nor servname provided, or not known (after 2ms in state CONNECT, 15 identical error(s) suppressed)\n",
      "%3|1698703237.941|FAIL|rdkafka#producer-1| [thrd:kafka2:9093/bootstrap]: kafka2:9093/bootstrap: Failed to resolve 'kafka2:9093': nodename nor servname provided, or not known (after 2ms in state CONNECT, 15 identical error(s) suppressed)\n",
      "%3|1698703238.946|FAIL|rdkafka#producer-1| [thrd:kafka1:9092/bootstrap]: kafka1:9092/bootstrap: Failed to resolve 'kafka1:9092': nodename nor servname provided, or not known (after 2ms in state CONNECT, 16 identical error(s) suppressed)\n"
     ]
    },
    {
     "name": "stdout",
     "output_type": "stream",
     "text": [
      "{'name': 'BBT', 'price': 30.8, 'timestamp': '2023-10-30T23:01:08Z'}\n"
     ]
    },
    {
     "name": "stderr",
     "output_type": "stream",
     "text": [
      "%3|1698703269.042|FAIL|rdkafka#producer-1| [thrd:kafka2:9093/bootstrap]: kafka2:9093/bootstrap: Failed to resolve 'kafka2:9093': nodename nor servname provided, or not known (after 3ms in state CONNECT, 16 identical error(s) suppressed)\n",
      "%3|1698703270.043|FAIL|rdkafka#producer-1| [thrd:kafka1:9092/bootstrap]: kafka1:9092/bootstrap: Failed to resolve 'kafka1:9092': nodename nor servname provided, or not known (after 2ms in state CONNECT, 15 identical error(s) suppressed)\n",
      "%3|1698703299.134|FAIL|rdkafka#producer-1| [thrd:kafka2:9093/bootstrap]: kafka2:9093/bootstrap: Failed to resolve 'kafka2:9093': nodename nor servname provided, or not known (after 2ms in state CONNECT, 16 identical error(s) suppressed)\n",
      "%3|1698703300.138|FAIL|rdkafka#producer-1| [thrd:kafka1:9092/bootstrap]: kafka1:9092/bootstrap: Failed to resolve 'kafka1:9092': nodename nor servname provided, or not known (after 2ms in state CONNECT, 14 identical error(s) suppressed)\n",
      "%3|1698703330.230|FAIL|rdkafka#producer-1| [thrd:kafka1:9092/bootstrap]: kafka1:9092/bootstrap: Failed to resolve 'kafka1:9092': nodename nor servname provided, or not known (after 2ms in state CONNECT, 16 identical error(s) suppressed)\n",
      "%3|1698703331.232|FAIL|rdkafka#producer-1| [thrd:kafka2:9093/bootstrap]: kafka2:9093/bootstrap: Failed to resolve 'kafka2:9093': nodename nor servname provided, or not known (after 2ms in state CONNECT, 15 identical error(s) suppressed)\n",
      "%3|1698703361.319|FAIL|rdkafka#producer-1| [thrd:kafka1:9092/bootstrap]: kafka1:9092/bootstrap: Failed to resolve 'kafka1:9092': nodename nor servname provided, or not known (after 2ms in state CONNECT, 15 identical error(s) suppressed)\n",
      "%3|1698703362.323|FAIL|rdkafka#producer-1| [thrd:kafka2:9093/bootstrap]: kafka2:9093/bootstrap: Failed to resolve 'kafka2:9093': nodename nor servname provided, or not known (after 2ms in state CONNECT, 16 identical error(s) suppressed)\n",
      "%3|1698703392.418|FAIL|rdkafka#producer-1| [thrd:kafka1:9092/bootstrap]: kafka1:9092/bootstrap: Failed to resolve 'kafka1:9092': nodename nor servname provided, or not known (after 2ms in state CONNECT, 14 identical error(s) suppressed)\n",
      "%3|1698703393.418|FAIL|rdkafka#producer-1| [thrd:kafka2:9093/bootstrap]: kafka2:9093/bootstrap: Failed to resolve 'kafka2:9093': nodename nor servname provided, or not known (after 2ms in state CONNECT, 17 identical error(s) suppressed)\n",
      "%3|1698703422.504|FAIL|rdkafka#producer-1| [thrd:kafka1:9092/bootstrap]: kafka1:9092/bootstrap: Failed to resolve 'kafka1:9092': nodename nor servname provided, or not known (after 2ms in state CONNECT, 16 identical error(s) suppressed)\n",
      "%3|1698703423.509|FAIL|rdkafka#producer-1| [thrd:kafka2:9093/bootstrap]: kafka2:9093/bootstrap: Failed to resolve 'kafka2:9093': nodename nor servname provided, or not known (after 3ms in state CONNECT, 14 identical error(s) suppressed)\n",
      "%3|1698703452.596|FAIL|rdkafka#producer-1| [thrd:kafka1:9092/bootstrap]: kafka1:9092/bootstrap: Failed to resolve 'kafka1:9092': nodename nor servname provided, or not known (after 2ms in state CONNECT, 15 identical error(s) suppressed)\n",
      "%3|1698703453.599|FAIL|rdkafka#producer-1| [thrd:kafka2:9093/bootstrap]: kafka2:9093/bootstrap: Failed to resolve 'kafka2:9093': nodename nor servname provided, or not known (after 2ms in state CONNECT, 15 identical error(s) suppressed)\n",
      "%3|1698703483.685|FAIL|rdkafka#producer-1| [thrd:kafka1:9092/bootstrap]: kafka1:9092/bootstrap: Failed to resolve 'kafka1:9092': nodename nor servname provided, or not known (after 2ms in state CONNECT, 16 identical error(s) suppressed)\n",
      "%3|1698703484.685|FAIL|rdkafka#producer-1| [thrd:kafka2:9093/bootstrap]: kafka2:9093/bootstrap: Failed to resolve 'kafka2:9093': nodename nor servname provided, or not known (after 3ms in state CONNECT, 15 identical error(s) suppressed)\n",
      "%3|1698703513.759|FAIL|rdkafka#producer-1| [thrd:kafka1:9092/bootstrap]: kafka1:9092/bootstrap: Failed to resolve 'kafka1:9092': nodename nor servname provided, or not known (after 2ms in state CONNECT, 14 identical error(s) suppressed)\n",
      "%3|1698703514.759|FAIL|rdkafka#producer-1| [thrd:kafka2:9093/bootstrap]: kafka2:9093/bootstrap: Failed to resolve 'kafka2:9093': nodename nor servname provided, or not known (after 3ms in state CONNECT, 16 identical error(s) suppressed)\n",
      "%3|1698703543.839|FAIL|rdkafka#producer-1| [thrd:kafka1:9092/bootstrap]: kafka1:9092/bootstrap: Failed to resolve 'kafka1:9092': nodename nor servname provided, or not known (after 2ms in state CONNECT, 15 identical error(s) suppressed)\n",
      "%3|1698703544.843|FAIL|rdkafka#producer-1| [thrd:kafka2:9093/bootstrap]: kafka2:9093/bootstrap: Failed to resolve 'kafka2:9093': nodename nor servname provided, or not known (after 3ms in state CONNECT, 15 identical error(s) suppressed)\n"
     ]
    },
    {
     "name": "stdout",
     "output_type": "stream",
     "text": [
      "{'name': 'FITB', 'price': 16.63, 'timestamp': '2023-10-30T23:06:09Z'}\n"
     ]
    },
    {
     "name": "stderr",
     "output_type": "stream",
     "text": [
      "%3|1698703573.920|FAIL|rdkafka#producer-1| [thrd:kafka1:9092/bootstrap]: kafka1:9092/bootstrap: Failed to resolve 'kafka1:9092': nodename nor servname provided, or not known (after 2ms in state CONNECT, 15 identical error(s) suppressed)\n",
      "%3|1698703574.924|FAIL|rdkafka#producer-1| [thrd:kafka2:9093/bootstrap]: kafka2:9093/bootstrap: Failed to resolve 'kafka2:9093': nodename nor servname provided, or not known (after 3ms in state CONNECT, 15 identical error(s) suppressed)\n",
      "%3|1698703605.011|FAIL|rdkafka#producer-1| [thrd:kafka2:9093/bootstrap]: kafka2:9093/bootstrap: Failed to resolve 'kafka2:9093': nodename nor servname provided, or not known (after 2ms in state CONNECT, 15 identical error(s) suppressed)\n",
      "%3|1698703606.015|FAIL|rdkafka#producer-1| [thrd:kafka1:9092/bootstrap]: kafka1:9092/bootstrap: Failed to resolve 'kafka1:9092': nodename nor servname provided, or not known (after 3ms in state CONNECT, 16 identical error(s) suppressed)\n",
      "%3|1698703635.102|FAIL|rdkafka#producer-1| [thrd:kafka2:9093/bootstrap]: kafka2:9093/bootstrap: Failed to resolve 'kafka2:9093': nodename nor servname provided, or not known (after 2ms in state CONNECT, 16 identical error(s) suppressed)\n",
      "%3|1698703636.106|FAIL|rdkafka#producer-1| [thrd:kafka1:9092/bootstrap]: kafka1:9092/bootstrap: Failed to resolve 'kafka1:9092': nodename nor servname provided, or not known (after 2ms in state CONNECT, 14 identical error(s) suppressed)\n",
      "%3|1698703665.176|FAIL|rdkafka#producer-1| [thrd:kafka2:9093/bootstrap]: kafka2:9093/bootstrap: Failed to resolve 'kafka2:9093': nodename nor servname provided, or not known (after 3ms in state CONNECT, 15 identical error(s) suppressed)\n",
      "%3|1698703666.177|FAIL|rdkafka#producer-1| [thrd:kafka1:9092/bootstrap]: kafka1:9092/bootstrap: Failed to resolve 'kafka1:9092': nodename nor servname provided, or not known (after 2ms in state CONNECT, 15 identical error(s) suppressed)\n",
      "%3|1698703696.286|FAIL|rdkafka#producer-1| [thrd:kafka2:9093/bootstrap]: kafka2:9093/bootstrap: Failed to resolve 'kafka2:9093': nodename nor servname provided, or not known (after 2ms in state CONNECT, 18 identical error(s) suppressed)\n",
      "%3|1698703697.289|FAIL|rdkafka#producer-1| [thrd:kafka1:9092/bootstrap]: kafka1:9092/bootstrap: Failed to resolve 'kafka1:9092': nodename nor servname provided, or not known (after 2ms in state CONNECT, 13 identical error(s) suppressed)\n",
      "%3|1698703726.367|FAIL|rdkafka#producer-1| [thrd:kafka2:9093/bootstrap]: kafka2:9093/bootstrap: Failed to resolve 'kafka2:9093': nodename nor servname provided, or not known (after 2ms in state CONNECT, 15 identical error(s) suppressed)\n",
      "%3|1698703727.371|FAIL|rdkafka#producer-1| [thrd:kafka1:9092/bootstrap]: kafka1:9092/bootstrap: Failed to resolve 'kafka1:9092': nodename nor servname provided, or not known (after 2ms in state CONNECT, 15 identical error(s) suppressed)\n",
      "%3|1698703757.451|FAIL|rdkafka#producer-1| [thrd:kafka2:9093/bootstrap]: kafka2:9093/bootstrap: Failed to resolve 'kafka2:9093': nodename nor servname provided, or not known (after 2ms in state CONNECT, 15 identical error(s) suppressed)\n",
      "%3|1698703758.452|FAIL|rdkafka#producer-1| [thrd:kafka1:9092/bootstrap]: kafka1:9092/bootstrap: Failed to resolve 'kafka1:9092': nodename nor servname provided, or not known (after 2ms in state CONNECT, 16 identical error(s) suppressed)\n",
      "%3|1698703787.538|FAIL|rdkafka#producer-1| [thrd:kafka2:9093/bootstrap]: kafka2:9093/bootstrap: Failed to resolve 'kafka2:9093': nodename nor servname provided, or not known (after 2ms in state CONNECT, 15 identical error(s) suppressed)\n",
      "%3|1698703788.538|FAIL|rdkafka#producer-1| [thrd:kafka1:9092/bootstrap]: kafka1:9092/bootstrap: Failed to resolve 'kafka1:9092': nodename nor servname provided, or not known (after 2ms in state CONNECT, 15 identical error(s) suppressed)\n",
      "%3|1698703818.620|FAIL|rdkafka#producer-1| [thrd:kafka2:9093/bootstrap]: kafka2:9093/bootstrap: Failed to resolve 'kafka2:9093': nodename nor servname provided, or not known (after 3ms in state CONNECT, 15 identical error(s) suppressed)\n",
      "%3|1698703819.623|FAIL|rdkafka#producer-1| [thrd:kafka1:9092/bootstrap]: kafka1:9092/bootstrap: Failed to resolve 'kafka1:9092': nodename nor servname provided, or not known (after 4ms in state CONNECT, 16 identical error(s) suppressed)\n",
      "%3|1698703849.692|FAIL|rdkafka#producer-1| [thrd:kafka2:9093/bootstrap]: kafka2:9093/bootstrap: Failed to resolve 'kafka2:9093': nodename nor servname provided, or not known (after 2ms in state CONNECT, 16 identical error(s) suppressed)\n",
      "%3|1698703850.691|FAIL|rdkafka#producer-1| [thrd:kafka1:9092/bootstrap]: kafka1:9092/bootstrap: Failed to resolve 'kafka1:9092': nodename nor servname provided, or not known (after 2ms in state CONNECT, 15 identical error(s) suppressed)\n"
     ]
    },
    {
     "name": "stdout",
     "output_type": "stream",
     "text": [
      "{'name': 'ZION', 'price': 24.57, 'timestamp': '2023-10-30T23:11:10Z'}\n"
     ]
    },
    {
     "name": "stderr",
     "output_type": "stream",
     "text": [
      "%3|1698703880.774|FAIL|rdkafka#producer-1| [thrd:kafka2:9093/bootstrap]: kafka2:9093/bootstrap: Failed to resolve 'kafka2:9093': nodename nor servname provided, or not known (after 2ms in state CONNECT, 16 identical error(s) suppressed)\n",
      "%3|1698703881.774|FAIL|rdkafka#producer-1| [thrd:kafka1:9092/bootstrap]: kafka1:9092/bootstrap: Failed to resolve 'kafka1:9092': nodename nor servname provided, or not known (after 2ms in state CONNECT, 15 identical error(s) suppressed)\n",
      "%3|1698703911.861|FAIL|rdkafka#producer-1| [thrd:kafka2:9093/bootstrap]: kafka2:9093/bootstrap: Failed to resolve 'kafka2:9093': nodename nor servname provided, or not known (after 3ms in state CONNECT, 14 identical error(s) suppressed)\n",
      "%3|1698703912.863|FAIL|rdkafka#producer-1| [thrd:kafka1:9092/bootstrap]: kafka1:9092/bootstrap: Failed to resolve 'kafka1:9092': nodename nor servname provided, or not known (after 2ms in state CONNECT, 17 identical error(s) suppressed)\n",
      "%3|1698703941.948|FAIL|rdkafka#producer-1| [thrd:kafka2:9093/bootstrap]: kafka2:9093/bootstrap: Failed to resolve 'kafka2:9093': nodename nor servname provided, or not known (after 2ms in state CONNECT, 15 identical error(s) suppressed)\n",
      "%3|1698703942.952|FAIL|rdkafka#producer-1| [thrd:kafka1:9092/bootstrap]: kafka1:9092/bootstrap: Failed to resolve 'kafka1:9092': nodename nor servname provided, or not known (after 3ms in state CONNECT, 15 identical error(s) suppressed)\n",
      "%3|1698703972.028|FAIL|rdkafka#producer-1| [thrd:kafka2:9093/bootstrap]: kafka2:9093/bootstrap: Failed to resolve 'kafka2:9093': nodename nor servname provided, or not known (after 2ms in state CONNECT, 16 identical error(s) suppressed)\n",
      "%3|1698703973.029|FAIL|rdkafka#producer-1| [thrd:kafka1:9092/bootstrap]: kafka1:9092/bootstrap: Failed to resolve 'kafka1:9092': nodename nor servname provided, or not known (after 2ms in state CONNECT, 14 identical error(s) suppressed)\n",
      "%3|1698704002.100|FAIL|rdkafka#producer-1| [thrd:kafka2:9093/bootstrap]: kafka2:9093/bootstrap: Failed to resolve 'kafka2:9093': nodename nor servname provided, or not known (after 2ms in state CONNECT, 15 identical error(s) suppressed)\n",
      "%3|1698704003.104|FAIL|rdkafka#producer-1| [thrd:kafka1:9092/bootstrap]: kafka1:9092/bootstrap: Failed to resolve 'kafka1:9092': nodename nor servname provided, or not known (after 2ms in state CONNECT, 15 identical error(s) suppressed)\n",
      "%3|1698704032.186|FAIL|rdkafka#producer-1| [thrd:kafka2:9093/bootstrap]: kafka2:9093/bootstrap: Failed to resolve 'kafka2:9093': nodename nor servname provided, or not known (after 3ms in state CONNECT, 14 identical error(s) suppressed)\n",
      "%3|1698704033.187|FAIL|rdkafka#producer-1| [thrd:kafka1:9092/bootstrap]: kafka1:9092/bootstrap: Failed to resolve 'kafka1:9092': nodename nor servname provided, or not known (after 2ms in state CONNECT, 16 identical error(s) suppressed)\n",
      "%3|1698704062.280|FAIL|rdkafka#producer-1| [thrd:kafka2:9093/bootstrap]: kafka2:9093/bootstrap: Failed to resolve 'kafka2:9093': nodename nor servname provided, or not known (after 2ms in state CONNECT, 15 identical error(s) suppressed)\n",
      "%3|1698704063.279|FAIL|rdkafka#producer-1| [thrd:kafka1:9092/bootstrap]: kafka1:9092/bootstrap: Failed to resolve 'kafka1:9092': nodename nor servname provided, or not known (after 1ms in state CONNECT, 15 identical error(s) suppressed)\n",
      "%3|1698704093.366|FAIL|rdkafka#producer-1| [thrd:kafka2:9093/bootstrap]: kafka2:9093/bootstrap: Failed to resolve 'kafka2:9093': nodename nor servname provided, or not known (after 2ms in state CONNECT, 16 identical error(s) suppressed)\n",
      "%3|1698704094.370|FAIL|rdkafka#producer-1| [thrd:kafka1:9092/bootstrap]: kafka1:9092/bootstrap: Failed to resolve 'kafka1:9092': nodename nor servname provided, or not known (after 2ms in state CONNECT, 15 identical error(s) suppressed)\n",
      "%3|1698704123.440|FAIL|rdkafka#producer-1| [thrd:kafka2:9093/bootstrap]: kafka2:9093/bootstrap: Failed to resolve 'kafka2:9093': nodename nor servname provided, or not known (after 2ms in state CONNECT, 15 identical error(s) suppressed)\n",
      "%3|1698704124.442|FAIL|rdkafka#producer-1| [thrd:kafka1:9092/bootstrap]: kafka1:9092/bootstrap: Failed to resolve 'kafka1:9092': nodename nor servname provided, or not known (after 2ms in state CONNECT, 15 identical error(s) suppressed)\n",
      "%3|1698704154.522|FAIL|rdkafka#producer-1| [thrd:kafka2:9093/bootstrap]: kafka2:9093/bootstrap: Failed to resolve 'kafka2:9093': nodename nor servname provided, or not known (after 2ms in state CONNECT, 16 identical error(s) suppressed)\n",
      "%3|1698704155.523|FAIL|rdkafka#producer-1| [thrd:kafka1:9092/bootstrap]: kafka1:9092/bootstrap: Failed to resolve 'kafka1:9092': nodename nor servname provided, or not known (after 2ms in state CONNECT, 15 identical error(s) suppressed)\n"
     ]
    },
    {
     "name": "stdout",
     "output_type": "stream",
     "text": [
      "{'name': 'HCP', 'price': 47.08, 'timestamp': '2023-10-30T23:16:11Z'}\n"
     ]
    },
    {
     "name": "stderr",
     "output_type": "stream",
     "text": [
      "%3|1698704185.596|FAIL|rdkafka#producer-1| [thrd:kafka2:9093/bootstrap]: kafka2:9093/bootstrap: Failed to resolve 'kafka2:9093': nodename nor servname provided, or not known (after 2ms in state CONNECT, 15 identical error(s) suppressed)\n",
      "%3|1698704186.596|FAIL|rdkafka#producer-1| [thrd:kafka1:9092/bootstrap]: kafka1:9092/bootstrap: Failed to resolve 'kafka1:9092': nodename nor servname provided, or not known (after 2ms in state CONNECT, 16 identical error(s) suppressed)\n",
      "%3|1698704215.689|FAIL|rdkafka#producer-1| [thrd:kafka2:9093/bootstrap]: kafka2:9093/bootstrap: Failed to resolve 'kafka2:9093': nodename nor servname provided, or not known (after 2ms in state CONNECT, 16 identical error(s) suppressed)\n",
      "%3|1698704216.691|FAIL|rdkafka#producer-1| [thrd:kafka1:9092/bootstrap]: kafka1:9092/bootstrap: Failed to resolve 'kafka1:9092': nodename nor servname provided, or not known (after 3ms in state CONNECT, 14 identical error(s) suppressed)\n",
      "%3|1698704246.770|FAIL|rdkafka#producer-1| [thrd:kafka2:9093/bootstrap]: kafka2:9093/bootstrap: Failed to resolve 'kafka2:9093': nodename nor servname provided, or not known (after 2ms in state CONNECT, 16 identical error(s) suppressed)\n",
      "%3|1698704247.774|FAIL|rdkafka#producer-1| [thrd:kafka1:9092/bootstrap]: kafka1:9092/bootstrap: Failed to resolve 'kafka1:9092': nodename nor servname provided, or not known (after 2ms in state CONNECT, 15 identical error(s) suppressed)\n",
      "%3|1698704277.855|FAIL|rdkafka#producer-1| [thrd:kafka2:9093/bootstrap]: kafka2:9093/bootstrap: Failed to resolve 'kafka2:9093': nodename nor servname provided, or not known (after 2ms in state CONNECT, 16 identical error(s) suppressed)\n",
      "%3|1698704278.855|FAIL|rdkafka#producer-1| [thrd:kafka1:9092/bootstrap]: kafka1:9092/bootstrap: Failed to resolve 'kafka1:9092': nodename nor servname provided, or not known (after 2ms in state CONNECT, 15 identical error(s) suppressed)\n",
      "%3|1698704308.933|FAIL|rdkafka#producer-1| [thrd:kafka2:9093/bootstrap]: kafka2:9093/bootstrap: Failed to resolve 'kafka2:9093': nodename nor servname provided, or not known (after 3ms in state CONNECT, 15 identical error(s) suppressed)\n",
      "%3|1698704309.936|FAIL|rdkafka#producer-1| [thrd:kafka1:9092/bootstrap]: kafka1:9092/bootstrap: Failed to resolve 'kafka1:9092': nodename nor servname provided, or not known (after 2ms in state CONNECT, 16 identical error(s) suppressed)\n",
      "%3|1698704340.011|FAIL|rdkafka#producer-1| [thrd:kafka2:9093/bootstrap]: kafka2:9093/bootstrap: Failed to resolve 'kafka2:9093': nodename nor servname provided, or not known (after 2ms in state CONNECT, 16 identical error(s) suppressed)\n",
      "%3|1698704341.011|FAIL|rdkafka#producer-1| [thrd:kafka1:9092/bootstrap]: kafka1:9092/bootstrap: Failed to resolve 'kafka1:9092': nodename nor servname provided, or not known (after 2ms in state CONNECT, 15 identical error(s) suppressed)\n",
      "%3|1698704370.079|FAIL|rdkafka#producer-1| [thrd:kafka2:9093/bootstrap]: kafka2:9093/bootstrap: Failed to resolve 'kafka2:9093': nodename nor servname provided, or not known (after 3ms in state CONNECT, 14 identical error(s) suppressed)\n",
      "%3|1698704371.082|FAIL|rdkafka#producer-1| [thrd:kafka1:9092/bootstrap]: kafka1:9092/bootstrap: Failed to resolve 'kafka1:9092': nodename nor servname provided, or not known (after 2ms in state CONNECT, 16 identical error(s) suppressed)\n",
      "%3|1698704400.171|FAIL|rdkafka#producer-1| [thrd:kafka2:9093/bootstrap]: kafka2:9093/bootstrap: Failed to resolve 'kafka2:9093': nodename nor servname provided, or not known (after 2ms in state CONNECT, 15 identical error(s) suppressed)\n",
      "%3|1698704401.175|FAIL|rdkafka#producer-1| [thrd:kafka1:9092/bootstrap]: kafka1:9092/bootstrap: Failed to resolve 'kafka1:9092': nodename nor servname provided, or not known (after 3ms in state CONNECT, 15 identical error(s) suppressed)\n",
      "%3|1698704430.248|FAIL|rdkafka#producer-1| [thrd:kafka2:9093/bootstrap]: kafka2:9093/bootstrap: Failed to resolve 'kafka2:9093': nodename nor servname provided, or not known (after 2ms in state CONNECT, 15 identical error(s) suppressed)\n",
      "%3|1698704432.251|FAIL|rdkafka#producer-1| [thrd:kafka1:9092/bootstrap]: kafka1:9092/bootstrap: Failed to resolve 'kafka1:9092': nodename nor servname provided, or not known (after 3ms in state CONNECT, 16 identical error(s) suppressed)\n",
      "%3|1698704461.326|FAIL|rdkafka#producer-1| [thrd:kafka2:9093/bootstrap]: kafka2:9093/bootstrap: Failed to resolve 'kafka2:9093': nodename nor servname provided, or not known (after 2ms in state CONNECT, 15 identical error(s) suppressed)\n",
      "%3|1698704462.327|FAIL|rdkafka#producer-1| [thrd:kafka1:9092/bootstrap]: kafka1:9092/bootstrap: Failed to resolve 'kafka1:9092': nodename nor servname provided, or not known (after 2ms in state CONNECT, 15 identical error(s) suppressed)\n"
     ]
    },
    {
     "name": "stdout",
     "output_type": "stream",
     "text": [
      "{'name': 'LLY', 'price': 53.91, 'timestamp': '2023-10-30T23:21:11Z'}\n"
     ]
    },
    {
     "name": "stderr",
     "output_type": "stream",
     "text": [
      "%3|1698704492.413|FAIL|rdkafka#producer-1| [thrd:kafka2:9093/bootstrap]: kafka2:9093/bootstrap: Failed to resolve 'kafka2:9093': nodename nor servname provided, or not known (after 1ms in state CONNECT, 15 identical error(s) suppressed)\n",
      "%3|1698704493.414|FAIL|rdkafka#producer-1| [thrd:kafka1:9092/bootstrap]: kafka1:9092/bootstrap: Failed to resolve 'kafka1:9092': nodename nor servname provided, or not known (after 2ms in state CONNECT, 16 identical error(s) suppressed)\n",
      "%3|1698704523.482|FAIL|rdkafka#producer-1| [thrd:kafka1:9092/bootstrap]: kafka1:9092/bootstrap: Failed to resolve 'kafka1:9092': nodename nor servname provided, or not known (after 2ms in state CONNECT, 15 identical error(s) suppressed)\n",
      "%3|1698704524.484|FAIL|rdkafka#producer-1| [thrd:kafka2:9093/bootstrap]: kafka2:9093/bootstrap: Failed to resolve 'kafka2:9093': nodename nor servname provided, or not known (after 2ms in state CONNECT, 16 identical error(s) suppressed)\n",
      "%3|1698704554.571|FAIL|rdkafka#producer-1| [thrd:kafka1:9092/bootstrap]: kafka1:9092/bootstrap: Failed to resolve 'kafka1:9092': nodename nor servname provided, or not known (after 3ms in state CONNECT, 15 identical error(s) suppressed)\n",
      "%3|1698704555.571|FAIL|rdkafka#producer-1| [thrd:kafka2:9093/bootstrap]: kafka2:9093/bootstrap: Failed to resolve 'kafka2:9093': nodename nor servname provided, or not known (after 2ms in state CONNECT, 16 identical error(s) suppressed)\n",
      "%3|1698704584.656|FAIL|rdkafka#producer-1| [thrd:kafka1:9092/bootstrap]: kafka1:9092/bootstrap: Failed to resolve 'kafka1:9092': nodename nor servname provided, or not known (after 2ms in state CONNECT, 16 identical error(s) suppressed)\n",
      "%3|1698704585.657|FAIL|rdkafka#producer-1| [thrd:kafka2:9093/bootstrap]: kafka2:9093/bootstrap: Failed to resolve 'kafka2:9093': nodename nor servname provided, or not known (after 2ms in state CONNECT, 14 identical error(s) suppressed)\n",
      "%3|1698704614.735|FAIL|rdkafka#producer-1| [thrd:kafka1:9092/bootstrap]: kafka1:9092/bootstrap: Failed to resolve 'kafka1:9092': nodename nor servname provided, or not known (after 2ms in state CONNECT, 16 identical error(s) suppressed)\n",
      "%3|1698704615.738|FAIL|rdkafka#producer-1| [thrd:kafka2:9093/bootstrap]: kafka2:9093/bootstrap: Failed to resolve 'kafka2:9093': nodename nor servname provided, or not known (after 2ms in state CONNECT, 14 identical error(s) suppressed)\n",
      "%3|1698704644.822|FAIL|rdkafka#producer-1| [thrd:kafka1:9092/bootstrap]: kafka1:9092/bootstrap: Failed to resolve 'kafka1:9092': nodename nor servname provided, or not known (after 2ms in state CONNECT, 15 identical error(s) suppressed)\n",
      "%3|1698704645.826|FAIL|rdkafka#producer-1| [thrd:kafka2:9093/bootstrap]: kafka2:9093/bootstrap: Failed to resolve 'kafka2:9093': nodename nor servname provided, or not known (after 2ms in state CONNECT, 15 identical error(s) suppressed)\n",
      "%3|1698704675.909|FAIL|rdkafka#producer-1| [thrd:kafka1:9092/bootstrap]: kafka1:9092/bootstrap: Failed to resolve 'kafka1:9092': nodename nor servname provided, or not known (after 2ms in state CONNECT, 15 identical error(s) suppressed)\n",
      "%3|1698704676.914|FAIL|rdkafka#producer-1| [thrd:kafka2:9093/bootstrap]: kafka2:9093/bootstrap: Failed to resolve 'kafka2:9093': nodename nor servname provided, or not known (after 3ms in state CONNECT, 16 identical error(s) suppressed)\n",
      "%3|1698704705.974|FAIL|rdkafka#producer-1| [thrd:kafka1:9092/bootstrap]: kafka1:9092/bootstrap: Failed to resolve 'kafka1:9092': nodename nor servname provided, or not known (after 2ms in state CONNECT, 14 identical error(s) suppressed)\n",
      "%3|1698704706.978|FAIL|rdkafka#producer-1| [thrd:kafka2:9093/bootstrap]: kafka2:9093/bootstrap: Failed to resolve 'kafka2:9093': nodename nor servname provided, or not known (after 2ms in state CONNECT, 16 identical error(s) suppressed)\n",
      "%3|1698704737.076|FAIL|rdkafka#producer-1| [thrd:kafka2:9093/bootstrap]: kafka2:9093/bootstrap: Failed to resolve 'kafka2:9093': nodename nor servname provided, or not known (after 2ms in state CONNECT, 15 identical error(s) suppressed)\n",
      "%3|1698704738.079|FAIL|rdkafka#producer-1| [thrd:kafka1:9092/bootstrap]: kafka1:9092/bootstrap: Failed to resolve 'kafka1:9092': nodename nor servname provided, or not known (after 2ms in state CONNECT, 16 identical error(s) suppressed)\n",
      "%3|1698704768.177|FAIL|rdkafka#producer-1| [thrd:kafka2:9093/bootstrap]: kafka2:9093/bootstrap: Failed to resolve 'kafka2:9093': nodename nor servname provided, or not known (after 2ms in state CONNECT, 14 identical error(s) suppressed)\n",
      "%3|1698704769.179|FAIL|rdkafka#producer-1| [thrd:kafka1:9092/bootstrap]: kafka1:9092/bootstrap: Failed to resolve 'kafka1:9092': nodename nor servname provided, or not known (after 2ms in state CONNECT, 17 identical error(s) suppressed)\n"
     ]
    },
    {
     "name": "stdout",
     "output_type": "stream",
     "text": [
      "{'name': 'MAC', 'price': 62.01, 'timestamp': '2023-10-30T23:26:12Z'}\n"
     ]
    },
    {
     "name": "stderr",
     "output_type": "stream",
     "text": [
      "%3|1698704799.270|FAIL|rdkafka#producer-1| [thrd:kafka2:9093/bootstrap]: kafka2:9093/bootstrap: Failed to resolve 'kafka2:9093': nodename nor servname provided, or not known (after 2ms in state CONNECT, 16 identical error(s) suppressed)\n",
      "%3|1698704800.273|FAIL|rdkafka#producer-1| [thrd:kafka1:9092/bootstrap]: kafka1:9092/bootstrap: Failed to resolve 'kafka1:9092': nodename nor servname provided, or not known (after 2ms in state CONNECT, 15 identical error(s) suppressed)\n",
      "%3|1698704830.349|FAIL|rdkafka#producer-1| [thrd:kafka1:9092/bootstrap]: kafka1:9092/bootstrap: Failed to resolve 'kafka1:9092': nodename nor servname provided, or not known (after 2ms in state CONNECT, 16 identical error(s) suppressed)\n",
      "%3|1698704831.353|FAIL|rdkafka#producer-1| [thrd:kafka2:9093/bootstrap]: kafka2:9093/bootstrap: Failed to resolve 'kafka2:9093': nodename nor servname provided, or not known (after 2ms in state CONNECT, 15 identical error(s) suppressed)\n",
      "%3|1698704860.465|FAIL|rdkafka#producer-1| [thrd:kafka1:9092/bootstrap]: kafka1:9092/bootstrap: Failed to resolve 'kafka1:9092': nodename nor servname provided, or not known (after 2ms in state CONNECT, 15 identical error(s) suppressed)\n",
      "%3|1698704861.474|FAIL|rdkafka#producer-1| [thrd:kafka2:9093/bootstrap]: kafka2:9093/bootstrap: Failed to resolve 'kafka2:9093': nodename nor servname provided, or not known (after 2ms in state CONNECT, 15 identical error(s) suppressed)\n",
      "%3|1698704891.627|FAIL|rdkafka#producer-1| [thrd:kafka1:9092/bootstrap]: kafka1:9092/bootstrap: Failed to resolve 'kafka1:9092': nodename nor servname provided, or not known (after 2ms in state CONNECT, 15 identical error(s) suppressed)\n",
      "%3|1698704892.633|FAIL|rdkafka#producer-1| [thrd:kafka2:9093/bootstrap]: kafka2:9093/bootstrap: Failed to resolve 'kafka2:9093': nodename nor servname provided, or not known (after 2ms in state CONNECT, 16 identical error(s) suppressed)\n",
      "%3|1698704922.771|FAIL|rdkafka#producer-1| [thrd:kafka2:9093/bootstrap]: kafka2:9093/bootstrap: Failed to resolve 'kafka2:9093': nodename nor servname provided, or not known (after 2ms in state CONNECT, 15 identical error(s) suppressed)\n",
      "%3|1698704923.775|FAIL|rdkafka#producer-1| [thrd:kafka1:9092/bootstrap]: kafka1:9092/bootstrap: Failed to resolve 'kafka1:9092': nodename nor servname provided, or not known (after 2ms in state CONNECT, 16 identical error(s) suppressed)\n",
      "%3|1698704952.848|FAIL|rdkafka#producer-1| [thrd:kafka2:9093/bootstrap]: kafka2:9093/bootstrap: Failed to resolve 'kafka2:9093': nodename nor servname provided, or not known (after 3ms in state CONNECT, 15 identical error(s) suppressed)\n",
      "%3|1698704953.851|FAIL|rdkafka#producer-1| [thrd:kafka1:9092/bootstrap]: kafka1:9092/bootstrap: Failed to resolve 'kafka1:9092': nodename nor servname provided, or not known (after 2ms in state CONNECT, 15 identical error(s) suppressed)\n",
      "%3|1698704982.919|FAIL|rdkafka#producer-1| [thrd:kafka2:9093/bootstrap]: kafka2:9093/bootstrap: Failed to resolve 'kafka2:9093': nodename nor servname provided, or not known (after 2ms in state CONNECT, 14 identical error(s) suppressed)\n",
      "%3|1698704983.920|FAIL|rdkafka#producer-1| [thrd:kafka1:9092/bootstrap]: kafka1:9092/bootstrap: Failed to resolve 'kafka1:9092': nodename nor servname provided, or not known (after 2ms in state CONNECT, 16 identical error(s) suppressed)\n",
      "%3|1698705013.995|FAIL|rdkafka#producer-1| [thrd:kafka2:9093/bootstrap]: kafka2:9093/bootstrap: Failed to resolve 'kafka2:9093': nodename nor servname provided, or not known (after 2ms in state CONNECT, 16 identical error(s) suppressed)\n",
      "%3|1698705014.998|FAIL|rdkafka#producer-1| [thrd:kafka1:9092/bootstrap]: kafka1:9092/bootstrap: Failed to resolve 'kafka1:9092': nodename nor servname provided, or not known (after 2ms in state CONNECT, 15 identical error(s) suppressed)\n",
      "%3|1698705044.068|FAIL|rdkafka#producer-1| [thrd:kafka2:9093/bootstrap]: kafka2:9093/bootstrap: Failed to resolve 'kafka2:9093': nodename nor servname provided, or not known (after 2ms in state CONNECT, 15 identical error(s) suppressed)\n",
      "%3|1698705045.072|FAIL|rdkafka#producer-1| [thrd:kafka1:9092/bootstrap]: kafka1:9092/bootstrap: Failed to resolve 'kafka1:9092': nodename nor servname provided, or not known (after 2ms in state CONNECT, 15 identical error(s) suppressed)\n"
     ]
    },
    {
     "name": "stdout",
     "output_type": "stream",
     "text": [
      "{'name': 'ADBE', 'price': 39.15, 'timestamp': '2023-10-30T23:31:13Z'}\n"
     ]
    },
    {
     "name": "stderr",
     "output_type": "stream",
     "text": [
      "%3|1698705075.154|FAIL|rdkafka#producer-1| [thrd:kafka2:9093/bootstrap]: kafka2:9093/bootstrap: Failed to resolve 'kafka2:9093': nodename nor servname provided, or not known (after 2ms in state CONNECT, 16 identical error(s) suppressed)\n",
      "%3|1698705076.158|FAIL|rdkafka#producer-1| [thrd:kafka1:9092/bootstrap]: kafka1:9092/bootstrap: Failed to resolve 'kafka1:9092': nodename nor servname provided, or not known (after 2ms in state CONNECT, 15 identical error(s) suppressed)\n",
      "%3|1698705106.227|FAIL|rdkafka#producer-1| [thrd:kafka2:9093/bootstrap]: kafka2:9093/bootstrap: Failed to resolve 'kafka2:9093': nodename nor servname provided, or not known (after 3ms in state CONNECT, 15 identical error(s) suppressed)\n",
      "%3|1698705107.228|FAIL|rdkafka#producer-1| [thrd:kafka1:9092/bootstrap]: kafka1:9092/bootstrap: Failed to resolve 'kafka1:9092': nodename nor servname provided, or not known (after 3ms in state CONNECT, 16 identical error(s) suppressed)\n",
      "%3|1698705137.315|FAIL|rdkafka#producer-1| [thrd:kafka2:9093/bootstrap]: kafka2:9093/bootstrap: Failed to resolve 'kafka2:9093': nodename nor servname provided, or not known (after 2ms in state CONNECT, 15 identical error(s) suppressed)\n",
      "%3|1698705138.317|FAIL|rdkafka#producer-1| [thrd:kafka1:9092/bootstrap]: kafka1:9092/bootstrap: Failed to resolve 'kafka1:9092': nodename nor servname provided, or not known (after 2ms in state CONNECT, 16 identical error(s) suppressed)\n",
      "%3|1698705168.405|FAIL|rdkafka#producer-1| [thrd:kafka2:9093/bootstrap]: kafka2:9093/bootstrap: Failed to resolve 'kafka2:9093': nodename nor servname provided, or not known (after 3ms in state CONNECT, 16 identical error(s) suppressed)\n",
      "%3|1698705169.405|FAIL|rdkafka#producer-1| [thrd:kafka1:9092/bootstrap]: kafka1:9092/bootstrap: Failed to resolve 'kafka1:9092': nodename nor servname provided, or not known (after 2ms in state CONNECT, 15 identical error(s) suppressed)\n",
      "%3|1698705198.488|FAIL|rdkafka#producer-1| [thrd:kafka2:9093/bootstrap]: kafka2:9093/bootstrap: Failed to resolve 'kafka2:9093': nodename nor servname provided, or not known (after 2ms in state CONNECT, 15 identical error(s) suppressed)\n",
      "%3|1698705199.492|FAIL|rdkafka#producer-1| [thrd:kafka1:9092/bootstrap]: kafka1:9092/bootstrap: Failed to resolve 'kafka1:9092': nodename nor servname provided, or not known (after 2ms in state CONNECT, 15 identical error(s) suppressed)\n",
      "%3|1698705228.566|FAIL|rdkafka#producer-1| [thrd:kafka2:9093/bootstrap]: kafka2:9093/bootstrap: Failed to resolve 'kafka2:9093': nodename nor servname provided, or not known (after 2ms in state CONNECT, 15 identical error(s) suppressed)\n",
      "%3|1698705229.566|FAIL|rdkafka#producer-1| [thrd:kafka1:9092/bootstrap]: kafka1:9092/bootstrap: Failed to resolve 'kafka1:9092': nodename nor servname provided, or not known (after 2ms in state CONNECT, 15 identical error(s) suppressed)\n",
      "%3|1698705258.668|FAIL|rdkafka#producer-1| [thrd:kafka2:9093/bootstrap]: kafka2:9093/bootstrap: Failed to resolve 'kafka2:9093': nodename nor servname provided, or not known (after 3ms in state CONNECT, 15 identical error(s) suppressed)\n",
      "%3|1698705259.671|FAIL|rdkafka#producer-1| [thrd:kafka1:9092/bootstrap]: kafka1:9092/bootstrap: Failed to resolve 'kafka1:9092': nodename nor servname provided, or not known (after 2ms in state CONNECT, 15 identical error(s) suppressed)\n",
      "%3|1698705288.737|FAIL|rdkafka#producer-1| [thrd:kafka2:9093/bootstrap]: kafka2:9093/bootstrap: Failed to resolve 'kafka2:9093': nodename nor servname provided, or not known (after 2ms in state CONNECT, 16 identical error(s) suppressed)\n",
      "%3|1698705289.741|FAIL|rdkafka#producer-1| [thrd:kafka1:9092/bootstrap]: kafka1:9092/bootstrap: Failed to resolve 'kafka1:9092': nodename nor servname provided, or not known (after 2ms in state CONNECT, 14 identical error(s) suppressed)\n",
      "%3|1698705319.823|FAIL|rdkafka#producer-1| [thrd:kafka2:9093/bootstrap]: kafka2:9093/bootstrap: Failed to resolve 'kafka2:9093': nodename nor servname provided, or not known (after 2ms in state CONNECT, 16 identical error(s) suppressed)\n",
      "%3|1698705320.828|FAIL|rdkafka#producer-1| [thrd:kafka1:9092/bootstrap]: kafka1:9092/bootstrap: Failed to resolve 'kafka1:9092': nodename nor servname provided, or not known (after 3ms in state CONNECT, 15 identical error(s) suppressed)\n"
     ]
    }
   ],
   "source": [
    "import csv, json\n",
    "import time\n",
    "n = 0\n",
    "with open(stocks) as csv_file:\n",
    "    csv_reader = csv.reader(csv_file, delimiter=',')\n",
    "    try:\n",
    "        for row in csv_reader:\n",
    "            #if n == 100:\n",
    "             #  break\n",
    "            stock = construct_stock(row)\n",
    "            print(stock)\n",
    "            p.produce('stock', value=json.dumps(stock))\n",
    "            p.poll(0)\n",
    "            p.flush()\n",
    "            time.sleep(0.5)\n",
    "            #n = n + 1\n",
    "    except BufferError:\n",
    "        sys.stderr.write('%% Local producer queue is full (%d messages awaiting delivery): try again\\n' % len(p))\n",
    "\n",
    "    \n",
    "        \n",
    "    \n",
    "    \n",
    "    "
   ]
  },
  {
   "cell_type": "markdown",
   "id": "5d0a3766-7c7e-4792-8929-e92740f7aed7",
   "metadata": {},
   "source": [
    "### Use only if you need to purge all the messages in the queue"
   ]
  },
  {
   "cell_type": "code",
   "execution_count": 22,
   "id": "c449281e-8c82-4d8f-a9db-030d2dcdcf07",
   "metadata": {},
   "outputs": [
    {
     "data": {
      "text/plain": [
       "{'stock': <Future at 0xffffa404e9d0 state=running>}"
      ]
     },
     "execution_count": 22,
     "metadata": {},
     "output_type": "execute_result"
    }
   ],
   "source": [
    "brokers = \"kafka1:9092,kafka2:9093\"\n",
    "\n",
    "admin_client = AdminClient({\"bootstrap.servers\":brokers})\n",
    "admin_client.delete_topics(topics=['stock'])"
   ]
  },
  {
   "cell_type": "code",
   "execution_count": 8,
   "id": "25d88831-9a75-44ce-8486-8d0ece9f92fb",
   "metadata": {},
   "outputs": [
    {
     "ename": "NameError",
     "evalue": "name 'call' is not defined",
     "output_type": "error",
     "traceback": [
      "\u001b[0;31m---------------------------------------------------------------------------\u001b[0m",
      "\u001b[0;31mNameError\u001b[0m                                 Traceback (most recent call last)",
      "Cell \u001b[0;32mIn[8], line 1\u001b[0m\n\u001b[0;32m----> 1\u001b[0m \u001b[43mdelete_kafka_topic\u001b[49m\u001b[43m(\u001b[49m\u001b[38;5;124;43m\"\u001b[39;49m\u001b[38;5;124;43mstock\u001b[39;49m\u001b[38;5;124;43m\"\u001b[39;49m\u001b[43m)\u001b[49m\n",
      "Cell \u001b[0;32mIn[7], line 2\u001b[0m, in \u001b[0;36mdelete_kafka_topic\u001b[0;34m(topic_name)\u001b[0m\n\u001b[1;32m      1\u001b[0m \u001b[38;5;28;01mdef\u001b[39;00m \u001b[38;5;21mdelete_kafka_topic\u001b[39m(topic_name):\n\u001b[0;32m----> 2\u001b[0m     \u001b[43mcall\u001b[49m([\u001b[38;5;124m\"\u001b[39m\u001b[38;5;124m/usr/bin/kafka-topics\u001b[39m\u001b[38;5;124m\"\u001b[39m, \u001b[38;5;124m\"\u001b[39m\u001b[38;5;124m--zookeeper\u001b[39m\u001b[38;5;124m\"\u001b[39m, \u001b[38;5;124m\"\u001b[39m\u001b[38;5;124mzookeeper-1:2181\u001b[39m\u001b[38;5;124m\"\u001b[39m, \u001b[38;5;124m\"\u001b[39m\u001b[38;5;124m--delete\u001b[39m\u001b[38;5;124m\"\u001b[39m, \u001b[38;5;124m\"\u001b[39m\u001b[38;5;124m--topic\u001b[39m\u001b[38;5;124m\"\u001b[39m, topic_name])\n",
      "\u001b[0;31mNameError\u001b[0m: name 'call' is not defined"
     ]
    }
   ],
   "source": []
  }
 ],
 "metadata": {
  "kernelspec": {
   "display_name": "Python 3 (ipykernel)",
   "language": "python",
   "name": "python3"
  },
  "language_info": {
   "codemirror_mode": {
    "name": "ipython",
    "version": 3
   },
   "file_extension": ".py",
   "mimetype": "text/x-python",
   "name": "python",
   "nbconvert_exporter": "python",
   "pygments_lexer": "ipython3",
   "version": "3.10.5"
  }
 },
 "nbformat": 4,
 "nbformat_minor": 5
}
